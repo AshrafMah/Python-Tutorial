{
 "cells": [
  {
   "cell_type": "markdown",
   "metadata": {},
   "source": [
    "# Advanced Python"
   ]
  },
  {
   "cell_type": "markdown",
   "metadata": {},
   "source": [
    "## Error Handling\n",
    "\n",
    "In Python, error handling is an important aspect of writing robust code. Understanding different types of errors and how to handle them can help prevent your program from crashing unexpectedly."
   ]
  },
  {
   "cell_type": "markdown",
   "metadata": {},
   "source": [
    "### Common Error Types"
   ]
  },
  {
   "cell_type": "markdown",
   "metadata": {},
   "source": [
    "1. **TypeError**\n",
    "   - **Cause**: This error occurs when you try to perform an operation on incompatible types. In this case, you cannot add an integer (`1`) to a string (`'hello'`).\n",
    "   - **Error Message**: `TypeError: unsupported operand type(s) for +: 'int' and 'str'`"
   ]
  },
  {
   "cell_type": "code",
   "execution_count": 1,
   "metadata": {},
   "outputs": [
    {
     "ename": "TypeError",
     "evalue": "unsupported operand type(s) for +: 'int' and 'str'",
     "output_type": "error",
     "traceback": [
      "\u001b[0;31m---------------------------------------------------------------------------\u001b[0m",
      "\u001b[0;31mTypeError\u001b[0m                                 Traceback (most recent call last)",
      "Cell \u001b[0;32mIn[1], line 1\u001b[0m\n\u001b[0;32m----> 1\u001b[0m \u001b[38;5;28mprint\u001b[39m(\u001b[38;5;241;43m1\u001b[39;49m\u001b[38;5;241;43m+\u001b[39;49m\u001b[38;5;124;43m'\u001b[39;49m\u001b[38;5;124;43mhello\u001b[39;49m\u001b[38;5;124;43m'\u001b[39;49m)\n",
      "\u001b[0;31mTypeError\u001b[0m: unsupported operand type(s) for +: 'int' and 'str'"
     ]
    }
   ],
   "source": [
    "print(1+'hello')"
   ]
  },
  {
   "cell_type": "markdown",
   "metadata": {},
   "source": [
    "2. **SyntaxError**\n",
    "   - **Cause**: This error occurs when there is an issue with the syntax of your code. Here, the `def hi()` line is missing a colon `:` at the end.\n",
    "   - **Error Message**: `SyntaxError: invalid syntax`"
   ]
  },
  {
   "cell_type": "code",
   "execution_count": 2,
   "metadata": {},
   "outputs": [
    {
     "ename": "SyntaxError",
     "evalue": "invalid syntax (3345993142.py, line 1)",
     "output_type": "error",
     "traceback": [
      "\u001b[0;36m  Cell \u001b[0;32mIn[2], line 1\u001b[0;36m\u001b[0m\n\u001b[0;31m    def hi()\u001b[0m\n\u001b[0m            ^\u001b[0m\n\u001b[0;31mSyntaxError\u001b[0m\u001b[0;31m:\u001b[0m invalid syntax\n"
     ]
    }
   ],
   "source": [
    "def holla()\n",
    "    pass"
   ]
  },
  {
   "cell_type": "markdown",
   "metadata": {},
   "source": [
    "3. **NameError**\n",
    "   - **Cause**: This error occurs when you try to use a variable or function name that has not been defined. In this case, `name` is not defined.\n",
    "   - **Error Message**: `NameError: name 'name' is not defined`"
   ]
  },
  {
   "cell_type": "code",
   "execution_count": 7,
   "metadata": {},
   "outputs": [
    {
     "ename": "NameError",
     "evalue": "name 'name' is not defined",
     "output_type": "error",
     "traceback": [
      "\u001b[0;31m---------------------------------------------------------------------------\u001b[0m",
      "\u001b[0;31mNameError\u001b[0m                                 Traceback (most recent call last)",
      "Cell \u001b[0;32mIn[7], line 4\u001b[0m\n\u001b[1;32m      1\u001b[0m \u001b[38;5;28;01mdef\u001b[39;00m \u001b[38;5;21mhello\u001b[39m():\n\u001b[1;32m      2\u001b[0m     \u001b[38;5;241m1\u001b[39m \u001b[38;5;241m+\u001b[39m name\n\u001b[0;32m----> 4\u001b[0m \u001b[43mhello\u001b[49m\u001b[43m(\u001b[49m\u001b[43m)\u001b[49m\n",
      "Cell \u001b[0;32mIn[7], line 2\u001b[0m, in \u001b[0;36mhello\u001b[0;34m()\u001b[0m\n\u001b[1;32m      1\u001b[0m \u001b[38;5;28;01mdef\u001b[39;00m \u001b[38;5;21mhello\u001b[39m():\n\u001b[0;32m----> 2\u001b[0m     \u001b[38;5;241m1\u001b[39m \u001b[38;5;241m+\u001b[39m \u001b[43mname\u001b[49m\n",
      "\u001b[0;31mNameError\u001b[0m: name 'name' is not defined"
     ]
    }
   ],
   "source": [
    "def holla():\n",
    "    1 + name\n",
    "\n",
    "holla()"
   ]
  },
  {
   "cell_type": "markdown",
   "metadata": {},
   "source": [
    "4. **IndexError**\n",
    "   - **Cause**: This error occurs when you try to access an index that is out of the range of a list. The list `li` has only three elements, so index `5` is out of range.\n",
    "   - **Error Message**: `IndexError: list index out of range`"
   ]
  },
  {
   "cell_type": "code",
   "execution_count": 4,
   "metadata": {},
   "outputs": [
    {
     "ename": "IndexError",
     "evalue": "list index out of range",
     "output_type": "error",
     "traceback": [
      "\u001b[0;31m---------------------------------------------------------------------------\u001b[0m",
      "\u001b[0;31mIndexError\u001b[0m                                Traceback (most recent call last)",
      "Cell \u001b[0;32mIn[4], line 5\u001b[0m\n\u001b[1;32m      2\u001b[0m     li \u001b[38;5;241m=\u001b[39m [\u001b[38;5;241m1\u001b[39m,\u001b[38;5;241m2\u001b[39m,\u001b[38;5;241m3\u001b[39m]\n\u001b[1;32m      3\u001b[0m     li[\u001b[38;5;241m5\u001b[39m]\n\u001b[0;32m----> 5\u001b[0m \u001b[43mholla\u001b[49m\u001b[43m(\u001b[49m\u001b[43m)\u001b[49m\n",
      "Cell \u001b[0;32mIn[4], line 3\u001b[0m, in \u001b[0;36mholla\u001b[0;34m()\u001b[0m\n\u001b[1;32m      1\u001b[0m \u001b[38;5;28;01mdef\u001b[39;00m \u001b[38;5;21mholla\u001b[39m():\n\u001b[1;32m      2\u001b[0m     li \u001b[38;5;241m=\u001b[39m [\u001b[38;5;241m1\u001b[39m,\u001b[38;5;241m2\u001b[39m,\u001b[38;5;241m3\u001b[39m]\n\u001b[0;32m----> 3\u001b[0m     \u001b[43mli\u001b[49m\u001b[43m[\u001b[49m\u001b[38;5;241;43m5\u001b[39;49m\u001b[43m]\u001b[49m\n",
      "\u001b[0;31mIndexError\u001b[0m: list index out of range"
     ]
    }
   ],
   "source": [
    "def holla():\n",
    "    li = [1,2,3]\n",
    "    li[5]\n",
    "\n",
    "holla()"
   ]
  },
  {
   "cell_type": "markdown",
   "metadata": {},
   "source": [
    "5. **KeyError**\n",
    "   - **Cause**: This error occurs when you try to access a key that does not exist in a dictionary. Here, the key `'b'` is not in the dictionary `di`.\n",
    "   - **Error Message**: `KeyError: 'b'`"
   ]
  },
  {
   "cell_type": "code",
   "execution_count": 5,
   "metadata": {},
   "outputs": [
    {
     "ename": "KeyError",
     "evalue": "'b'",
     "output_type": "error",
     "traceback": [
      "\u001b[0;31m---------------------------------------------------------------------------\u001b[0m",
      "\u001b[0;31mKeyError\u001b[0m                                  Traceback (most recent call last)",
      "Cell \u001b[0;32mIn[5], line 5\u001b[0m\n\u001b[1;32m      2\u001b[0m     di \u001b[38;5;241m=\u001b[39m {\u001b[38;5;124m'\u001b[39m\u001b[38;5;124ma\u001b[39m\u001b[38;5;124m'\u001b[39m: \u001b[38;5;241m1\u001b[39m}\n\u001b[1;32m      3\u001b[0m     di[\u001b[38;5;124m'\u001b[39m\u001b[38;5;124mb\u001b[39m\u001b[38;5;124m'\u001b[39m]\n\u001b[0;32m----> 5\u001b[0m \u001b[43mholla\u001b[49m\u001b[43m(\u001b[49m\u001b[43m)\u001b[49m\n",
      "Cell \u001b[0;32mIn[5], line 3\u001b[0m, in \u001b[0;36mholla\u001b[0;34m()\u001b[0m\n\u001b[1;32m      1\u001b[0m \u001b[38;5;28;01mdef\u001b[39;00m \u001b[38;5;21mholla\u001b[39m():\n\u001b[1;32m      2\u001b[0m     di \u001b[38;5;241m=\u001b[39m {\u001b[38;5;124m'\u001b[39m\u001b[38;5;124ma\u001b[39m\u001b[38;5;124m'\u001b[39m: \u001b[38;5;241m1\u001b[39m}\n\u001b[0;32m----> 3\u001b[0m     \u001b[43mdi\u001b[49m\u001b[43m[\u001b[49m\u001b[38;5;124;43m'\u001b[39;49m\u001b[38;5;124;43mb\u001b[39;49m\u001b[38;5;124;43m'\u001b[39;49m\u001b[43m]\u001b[49m\n",
      "\u001b[0;31mKeyError\u001b[0m: 'b'"
     ]
    }
   ],
   "source": [
    "def holla():\n",
    "    di = {'a': 1}\n",
    "    di['b']\n",
    "\n",
    "holla()"
   ]
  },
  {
   "cell_type": "markdown",
   "metadata": {},
   "source": [
    "6. **ZeroDivisionError**\n",
    "   - **Cause**: This error occurs when you try to divide a number by zero, which is mathematically undefined.\n",
    "   - **Error Message**: `ZeroDivisionError: division by zero`"
   ]
  },
  {
   "cell_type": "code",
   "execution_count": 6,
   "metadata": {},
   "outputs": [
    {
     "ename": "ZeroDivisionError",
     "evalue": "division by zero",
     "output_type": "error",
     "traceback": [
      "\u001b[0;31m---------------------------------------------------------------------------\u001b[0m",
      "\u001b[0;31mZeroDivisionError\u001b[0m                         Traceback (most recent call last)",
      "Cell \u001b[0;32mIn[6], line 4\u001b[0m\n\u001b[1;32m      1\u001b[0m \u001b[38;5;28;01mdef\u001b[39;00m \u001b[38;5;21mholla\u001b[39m():\n\u001b[1;32m      2\u001b[0m     \u001b[38;5;241m5\u001b[39m\u001b[38;5;241m/\u001b[39m\u001b[38;5;241m0\u001b[39m\n\u001b[0;32m----> 4\u001b[0m \u001b[43mholla\u001b[49m\u001b[43m(\u001b[49m\u001b[43m)\u001b[49m\n",
      "Cell \u001b[0;32mIn[6], line 2\u001b[0m, in \u001b[0;36mholla\u001b[0;34m()\u001b[0m\n\u001b[1;32m      1\u001b[0m \u001b[38;5;28;01mdef\u001b[39;00m \u001b[38;5;21mholla\u001b[39m():\n\u001b[0;32m----> 2\u001b[0m     \u001b[38;5;241;43m5\u001b[39;49m\u001b[38;5;241;43m/\u001b[39;49m\u001b[38;5;241;43m0\u001b[39;49m\n",
      "\u001b[0;31mZeroDivisionError\u001b[0m: division by zero"
     ]
    }
   ],
   "source": [
    "def holla():\n",
    "    5/0\n",
    "\n",
    "holla()"
   ]
  },
  {
   "cell_type": "markdown",
   "metadata": {},
   "source": [
    "### Error Handling with `try` and `except`\n",
    "\n",
    "To handle these errors and prevent your program from crashing, you can use `try` and `except` blocks.\n",
    "\n",
    "```python\n",
    "try:\n",
    "    # Code that might raise an error\n",
    "    1 + 'hello'\n",
    "except TypeError:\n",
    "    print(\"A TypeError occurred. You can't add a number and a string!\")\n",
    "\n",
    "try:\n",
    "    5 / 0\n",
    "except ZeroDivisionError:\n",
    "    print(\"A ZeroDivisionError occurred. You can't divide by zero!\")\n",
    "```"
   ]
  },
  {
   "cell_type": "code",
   "execution_count": 6,
   "metadata": {},
   "outputs": [
    {
     "name": "stdout",
     "output_type": "stream",
     "text": [
      "thank you!\n"
     ]
    }
   ],
   "source": [
    "while True:\n",
    "    try:\n",
    "        age = int(input('what is your age?'))\n",
    "        10/age\n",
    "    except ValueError:\n",
    "        print(\"please enter a number\")\n",
    "    except ZeroDivisionError:\n",
    "        print(\"please enter age higher than 0\")\n",
    "    else:\n",
    "        print(\"thank you!\")\n",
    "        break\n"
   ]
  },
  {
   "cell_type": "code",
   "execution_count": 13,
   "metadata": {},
   "outputs": [
    {
     "name": "stdout",
     "output_type": "stream",
     "text": [
      "please enter numbers can only concatenate str (not \"int\") to str\n",
      "None\n"
     ]
    }
   ],
   "source": [
    "def sum(num1, num2):\n",
    "    try:\n",
    "        return num1 + num2\n",
    "    except TypeError as err:\n",
    "        # print('Please enter numbers' + err)\n",
    "        print(f'please enter numbers {err}')\n",
    "\n",
    "print(sum('1', 2))"
   ]
  },
  {
   "cell_type": "markdown",
   "metadata": {},
   "source": [
    "### Using `try`, `except`, `else`, and `finally`\n",
    "\n",
    "You can also use `else` and `finally` in error handling:\n",
    "\n",
    "- **`else`**: Runs if no exception was raised.\n",
    "- **`finally`**: Runs no matter what, whether an exception was raised or not.\n",
    "\n",
    "```python\n",
    "try:\n",
    "    # Code that might raise an error\n",
    "    result = 5 / 1\n",
    "except ZeroDivisionError:\n",
    "    print(\"A ZeroDivisionError occurred. You can't divide by zero!\")\n",
    "else:\n",
    "    print(f\"Division successful, result is {result}\")\n",
    "finally:\n",
    "    print(\"This will run no matter what.\")\n",
    "```\n",
    "\n",
    "### Output\n",
    "\n",
    "- The first `except` block will print a specific message if a `ZeroDivisionError` occurs.\n",
    "- If the code in the `try` block runs successfully (i.e., no errors), the `else` block will execute.\n",
    "- The `finally` block will always run, whether an error occurred or not.\n",
    "\n",
    "This structured approach to handling errors ensures that your program can manage unexpected situations gracefully, improving its reliability."
   ]
  },
  {
   "cell_type": "code",
   "execution_count": 18,
   "metadata": {},
   "outputs": [
    {
     "name": "stdout",
     "output_type": "stream",
     "text": [
      "please enter a number\n",
      "ok, i am finally done\n",
      "thank you!\n",
      "ok, i am finally done\n"
     ]
    }
   ],
   "source": [
    "while True:\n",
    "    try:\n",
    "        age = int(input('what is your age?'))\n",
    "        10/age\n",
    "    except ValueError:\n",
    "        print(\"please enter a number\")\n",
    "        continue\n",
    "    except ZeroDivisionError:\n",
    "        print(\"please enter age higher than 0\")\n",
    "    else:\n",
    "        print(\"thank you!\")\n",
    "        break\n",
    "    finally:\n",
    "        print('ok, i am finally done')\n",
    "    print('can you see me?')\n"
   ]
  },
  {
   "cell_type": "code",
   "execution_count": 27,
   "metadata": {},
   "outputs": [
    {
     "name": "stdout",
     "output_type": "stream",
     "text": [
      "ok, i am finally done\n"
     ]
    },
    {
     "ename": "Exception",
     "evalue": "hey cut it out",
     "output_type": "error",
     "traceback": [
      "\u001b[0;31m---------------------------------------------------------------------------\u001b[0m",
      "\u001b[0;31mException\u001b[0m                                 Traceback (most recent call last)",
      "Cell \u001b[0;32mIn[27], line 5\u001b[0m\n\u001b[1;32m      3\u001b[0m     age \u001b[38;5;241m=\u001b[39m \u001b[38;5;28mint\u001b[39m(\u001b[38;5;28minput\u001b[39m(\u001b[38;5;124m'\u001b[39m\u001b[38;5;124mwhat is your age?\u001b[39m\u001b[38;5;124m'\u001b[39m))\n\u001b[1;32m      4\u001b[0m     \u001b[38;5;241m10\u001b[39m\u001b[38;5;241m/\u001b[39mage\n\u001b[0;32m----> 5\u001b[0m     \u001b[38;5;28;01mraise\u001b[39;00m \u001b[38;5;167;01mException\u001b[39;00m(\u001b[38;5;124m'\u001b[39m\u001b[38;5;124mhey cut it out\u001b[39m\u001b[38;5;124m'\u001b[39m)\n\u001b[1;32m      6\u001b[0m \u001b[38;5;28;01mexcept\u001b[39;00m \u001b[38;5;167;01mZeroDivisionError\u001b[39;00m:\n\u001b[1;32m      7\u001b[0m     \u001b[38;5;28mprint\u001b[39m(\u001b[38;5;124m\"\u001b[39m\u001b[38;5;124mplease enter age higher than 0\u001b[39m\u001b[38;5;124m\"\u001b[39m)\n",
      "\u001b[0;31mException\u001b[0m: hey cut it out"
     ]
    }
   ],
   "source": [
    "while True:\n",
    "    try:\n",
    "        age = int(input('what is your age?'))\n",
    "        10/age\n",
    "        raise Exception('hey cut it out')\n",
    "    except ZeroDivisionError:\n",
    "        print(\"please enter age higher than 0\")\n",
    "        break\n",
    "    # else:\n",
    "    #     print(\"thank you!\")\n",
    "    finally:\n",
    "        print('ok, i am finally done')\n"
   ]
  },
  {
   "cell_type": "markdown",
   "metadata": {},
   "source": [
    "----------------------------------------------\n",
    "\n",
    "$$ Thank \\space you \\space ♡ $$\n",
    "$$ Ashraf \\space Sobh $$"
   ]
  }
 ],
 "metadata": {
  "kernelspec": {
   "display_name": "Python 3.10 (tensorflow)",
   "language": "python",
   "name": "tensorflow"
  },
  "language_info": {
   "codemirror_mode": {
    "name": "ipython",
    "version": 3
   },
   "file_extension": ".py",
   "mimetype": "text/x-python",
   "name": "python",
   "nbconvert_exporter": "python",
   "pygments_lexer": "ipython3",
   "version": "3.8.15"
  }
 },
 "nbformat": 4,
 "nbformat_minor": 2
}
