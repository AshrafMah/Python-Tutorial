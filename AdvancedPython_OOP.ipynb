{
 "cells": [
  {
   "cell_type": "markdown",
   "metadata": {},
   "source": [
    "# Advanced Python"
   ]
  },
  {
   "cell_type": "markdown",
   "metadata": {},
   "source": [
    "## Object Oriented Programming"
   ]
  },
  {
   "cell_type": "markdown",
   "metadata": {},
   "source": [
    "- **Everything in Python is an Object:**  \n",
    "  Python treats everything as an object, and OOP helps us create our own data types with different <span style=\"color:green;\">attributes</span> and <span style=\"color:red;\">methods</span>.\n",
    "  \n",
    "  ```python\n",
    "  print(type([]))  # Output: <class 'list'>\n",
    "  ```\n",
    "\n",
    "- **Complex Systems Example:**  \n",
    "  Consider coding a **Drone** to deliver packages to customers. This task is complex and cannot be handled by basic functions and conditional logic alone in a single `.py` file. The code might span hundreds, thousands, or even millions of lines divided into different files.\n",
    "\n",
    "- **Benefits of OOP:**  \n",
    "  OOP helps make this code more manageable by allowing us to break down complex systems into smaller, more manageable pieces.\n",
    "\n",
    "- **OOP as a Paradigm:**  \n",
    "  OOP is a paradigm—a way for us to think about and structure our code, making it easier to maintain, extend, and write.\n",
    "\n",
    "- **Breaking Down the Drone:**  \n",
    "  The code for a **Drone** can be divided into small pieces (objects) that represent real-world components:\n",
    "  - **Propellers**: Components that make the drone fly.\n",
    "  - **Camera**: Equipment for capturing images or video.\n",
    "  - **Holder**: Mechanism for holding packages.\n",
    "  - **Signaling**: Systems for sending and receiving signals."
   ]
  },
  {
   "cell_type": "markdown",
   "metadata": {},
   "source": [
    "- **Creating Classes and Instances:**  \n",
    "  In OOP, you create a class(blueprint) and then instantiate objects from it. This allows you to create multiple instances with shared behavior and properties.\n",
    "\n",
    "  ```python\n",
    "  class BigObject:  # Class names typically use CamelCase\n",
    "      pass\n",
    "\n",
    "  obj1 = BigObject()  # Instantiate obj1\n",
    "  obj2 = BigObject()  # Instantiate obj2\n",
    "  ```"
   ]
  },
  {
   "cell_type": "code",
   "execution_count": 55,
   "metadata": {},
   "outputs": [
    {
     "name": "stdout",
     "output_type": "stream",
     "text": [
      "<__main__.PlayerCharacter object at 0x7fed1db61c10> Ashraf\n",
      "run ya Ashraf\n",
      "done\n",
      "8\n",
      "True\n"
     ]
    }
   ],
   "source": [
    "# Create objects from the class\n",
    "class PlayerCharacter:\n",
    "    # Class Object Attribute (Static)\n",
    "    membership = True # this will not change across the instances\n",
    "    def __init__(self, name, age):  \n",
    "        #init method\n",
    "        ##called every time we inistantiate the class \n",
    "        ###`self` refer to the player character\n",
    "        if (self.membership): # you can use `self` or the name of the class \n",
    "            self.name = name #attribute (Dynamic)\n",
    "            #to make the PlayerCharcter has the `name` attribute\n",
    "            self.age = age # attribute\n",
    "    \n",
    "    def run(self):\n",
    "        #self refer to the PlayerCharacter class\n",
    "        #run is another method\n",
    "        print(f'run ya {self.name}')\n",
    "        return 'done'\n",
    "\n",
    "# Instantiate objects from the PlayerCharacter class\n",
    "player1 = PlayerCharacter('Ashraf', 25)\n",
    "player2 = PlayerCharacter('Ali', 8)\n",
    "\n",
    "# Accessing attributes and methods of the instances\n",
    "print(player1, player1.name)  # Output: <__main__.PlayerCharacter object at ...> Ashraf\n",
    "print(player1.run())          # Output: run ya Ashraf, done\n",
    "print(player2.age)            # Output: 8\n",
    "print(player2.membership)     # Output: True"
   ]
  },
  {
   "cell_type": "markdown",
   "metadata": {},
   "source": [
    "- **Class Object Attribute vs. Attribute:**\n",
    "\n",
    "  - **Class Object Attribute**:  \n",
    "    A class object attribute is static and does not change across different instances of the class. It is shared by all instances and can be accessed using the class name or `self`.\n",
    "\n",
    "  - **Attribute**:  \n",
    "    An instance attribute is dynamic and specific to each instance of a class. It is unique to each instance and accessed using `self`.\n",
    "\n",
    "In the above example:\n",
    "\n",
    "- **Class Object Attribute**:\n",
    "  - `membership` is a class object attribute shared among all instances of the `PlayerCharacter` class. It is static and does not change.\n",
    "  - It can be accessed using either `self.membership` or `PlayerCharacter.membership`.\n",
    "\n",
    "- **Instance Attributes**:\n",
    "  - `name` and `age` are instance attributes unique to each instance of the `PlayerCharacter` class.\n",
    "  - They are assigned when the instance is created and accessed using `self.name` and `self.age`.\n",
    "\n",
    "- **Methods**:\n",
    "  - The `__init__` method is called when an instance of the class is created. It initializes the instance attributes.\n",
    "  - The `run` method is a function defined within the class that can be called on an instance to perform some action or computation."
   ]
  },
  {
   "cell_type": "code",
   "execution_count": 56,
   "metadata": {},
   "outputs": [
    {
     "name": "stdout",
     "output_type": "stream",
     "text": [
      "Help on class PlayerCharacter in module __main__:\n",
      "\n",
      "class PlayerCharacter(builtins.object)\n",
      " |  PlayerCharacter(name, age)\n",
      " |  \n",
      " |  Methods defined here:\n",
      " |  \n",
      " |  __init__(self, name, age)\n",
      " |      Initialize self.  See help(type(self)) for accurate signature.\n",
      " |  \n",
      " |  run(self)\n",
      " |  \n",
      " |  ----------------------------------------------------------------------\n",
      " |  Data descriptors defined here:\n",
      " |  \n",
      " |  __dict__\n",
      " |      dictionary for instance variables (if defined)\n",
      " |  \n",
      " |  __weakref__\n",
      " |      list of weak references to the object (if defined)\n",
      " |  \n",
      " |  ----------------------------------------------------------------------\n",
      " |  Data and other attributes defined here:\n",
      " |  \n",
      " |  membership = True\n",
      "\n"
     ]
    }
   ],
   "source": [
    "# to know what class blueprint.\n",
    "#help(list)\n",
    "help(PlayerCharacter)"
   ]
  },
  {
   "cell_type": "code",
   "execution_count": 68,
   "metadata": {},
   "outputs": [
    {
     "name": "stdout",
     "output_type": "stream",
     "text": [
      "<__main__.PlayerCharacter object at 0x7fed1dbf2760> Ashraf\n",
      "run ya Ashraf\n",
      "done\n"
     ]
    },
    {
     "ename": "AttributeError",
     "evalue": "'PlayerCharacter' object has no attribute 'age'",
     "output_type": "error",
     "traceback": [
      "\u001b[0;31m---------------------------------------------------------------------------\u001b[0m",
      "\u001b[0;31mAttributeError\u001b[0m                            Traceback (most recent call last)",
      "Cell \u001b[0;32mIn[68], line 18\u001b[0m\n\u001b[1;32m     16\u001b[0m \u001b[38;5;28mprint\u001b[39m(player1, player1\u001b[38;5;241m.\u001b[39mname) \n\u001b[1;32m     17\u001b[0m \u001b[38;5;28mprint\u001b[39m(player1\u001b[38;5;241m.\u001b[39mrun())         \n\u001b[0;32m---> 18\u001b[0m \u001b[38;5;28mprint\u001b[39m(\u001b[43mplayer2\u001b[49m\u001b[38;5;241;43m.\u001b[39;49m\u001b[43mage\u001b[49m)            \n\u001b[1;32m     19\u001b[0m \u001b[38;5;28mprint\u001b[39m(player2\u001b[38;5;241m.\u001b[39mmembership)\n",
      "\u001b[0;31mAttributeError\u001b[0m: 'PlayerCharacter' object has no attribute 'age'"
     ]
    }
   ],
   "source": [
    "## __init__ ##\n",
    "class PlayerCharacter:\n",
    "    def __init__(self, name='anonymous', age=0):  \n",
    "        ## __init__ call eveytime we instantiate an object, \n",
    "        # so you can do different safeguards that not allow anyone to instaniate an object.\n",
    "        if (age > 18): \n",
    "            self.name = name\n",
    "            self.age = age \n",
    "    \n",
    "    def run(self):\n",
    "        print(f'run ya {self.name}')\n",
    "        return 'done'\n",
    "    \n",
    "player1 = PlayerCharacter('Ashraf', 25)\n",
    "player2 = PlayerCharacter('Ali', 8)\n",
    "\n",
    "\n",
    "print(player1, player1.name) \n",
    "print(player1.run())         \n",
    "print(player2.age)            \n",
    "print(player2.membership)     "
   ]
  },
  {
   "cell_type": "code",
   "execution_count": 110,
   "metadata": {},
   "outputs": [
    {
     "name": "stdout",
     "output_type": "stream",
     "text": [
      "5\n",
      "7\n"
     ]
    }
   ],
   "source": [
    "## @classmthod and @staticmethod ##\n",
    "\n",
    "class PlayerCharacter:\n",
    "    def __init__(self, name='anonymous', age=0):  \n",
    "        self.name = name\n",
    "        self.age = age \n",
    "    \n",
    "    def run(self):\n",
    "        print(f'run ya {self.name}')\n",
    "        return 'done'\n",
    "    \n",
    "    @classmethod  \n",
    "    # we can use it without instantiating a class \n",
    "    # we don't use it 90% of time, just know it. It's useful in some cases(like instantiating an object).\n",
    "    def adding_things(cls, num1, num2):\n",
    "        # return num1 + num2\n",
    "        return cls('Achraf', num1+num2)\n",
    "    \n",
    "    @staticmethod\n",
    "    # you don't have access to the class(cls)\n",
    "    # we use it when we don't care about anything in the class state(attributes,..).\n",
    "    def adding_things2(num1, num2):\n",
    "    # return num1 + num2\n",
    "        return num1+num2\n",
    "\n",
    "    \n",
    "# player1 = PlayerCharacter('Ashraf', 25)\n",
    "# print(PlayerCharacter.adding_things(5,4))\n",
    "\n",
    "player2 = PlayerCharacter.adding_things(2,3)\n",
    "print(player2.age)\n",
    "\n",
    "player3 = PlayerCharacter.adding_things2(3,4)\n",
    "print(player3)"
   ]
  },
  {
   "cell_type": "markdown",
   "metadata": {},
   "source": [
    "### Review what we made till now"
   ]
  },
  {
   "cell_type": "code",
   "execution_count": null,
   "metadata": {},
   "outputs": [],
   "source": [
    "class NameOfClass():\n",
    "    class_attribute = 'value'\n",
    "    def __init__(self, param1, param2):\n",
    "        self.param1 = param1\n",
    "        self.paraam2 = param2\n",
    "    \n",
    "    def method(self):\n",
    "        #code\n",
    "    \n",
    "    @classmethod\n",
    "    def cls_method(cls, param1, param2):\n",
    "        #code\n",
    "        \n",
    "    @staticmethod\n",
    "    def stc_method(param1, param2):\n",
    "        #code"
   ]
  },
  {
   "cell_type": "markdown",
   "metadata": {},
   "source": [
    "### 4 Pillara Of OOP"
   ]
  },
  {
   "cell_type": "markdown",
   "metadata": {},
   "source": [
    "- Encapsulation\n",
    "- Abstraction\n",
    "- Inheritance\n",
    "- Polymorphism"
   ]
  },
  {
   "cell_type": "markdown",
   "metadata": {},
   "source": [
    "#### Encapsulation\n",
    "\n",
    "- **Definition**:  \n",
    "  Encapsulation is the binding of data and functions that manipulate that data into one single entity, or object. This encapsulation helps keep the data safe from outside interference and misuse.\n",
    "\n",
    "- **Purpose**:  \n",
    "  By encapsulating data and methods, we can keep everything related to an object within one \"box.\" This organization ensures that users, other code, or machines can interact with the object in a controlled manner."
   ]
  },
  {
   "cell_type": "markdown",
   "metadata": {},
   "source": [
    "#### Abstraction\n",
    "\n",
    "- **Definition**:  \n",
    "  Abstraction is the concept of hiding unnecessary details from the user and exposing only the necessary parts of an object or function. It simplifies complex systems by providing a clear and simple interface for interaction.\n",
    "\n",
    "- **Example**:  \n",
    "  Consider the camera on an iPhone. Users do not need to know how the camera's internal code works. Instead, the iPhone provides a simple interface, such as `camera.takePicture()`, allowing users to take pictures without dealing with the underlying complexities.\n",
    "\n",
    "- **Python and Privacy**:  \n",
    "  In Python, there is no true privacy or private variables. Instead, we use conventions to indicate that certain attributes or methods are intended to be private:\n",
    "  - **Single Underscore**: Prefixing a variable name with a single underscore (e.g., `_private_var`) is a convention to signal that it should be treated as a private variable. However, it is not enforced by the language, and the variable can still be accessed and modified."
   ]
  },
  {
   "cell_type": "code",
   "execution_count": 1,
   "metadata": {},
   "outputs": [
    {
     "name": "stdout",
     "output_type": "stream",
     "text": [
      "I'm private!\n",
      "This is a private method.\n"
     ]
    }
   ],
   "source": [
    "class Example:\n",
    "    def __init__(self):\n",
    "        self._private_var = \"I'm private!\"\n",
    "    \n",
    "    def _private_method(self):\n",
    "        return \"This is a private method.\"\n",
    "\n",
    "example = Example()\n",
    "print(example._private_var)  # Output: I'm private!\n",
    "print(example._private_method())  # Output: This is a private method."
   ]
  },
  {
   "cell_type": "markdown",
   "metadata": {},
   "source": [
    "#### Inheritance\n",
    "\n",
    "- **Definition**:  \n",
    "  Inheritance allows new objects (classes) to take on the properties and behaviors of existing objects. This mechanism enables code reuse and establishes a relationship between different classes."
   ]
  },
  {
   "cell_type": "code",
   "execution_count": 11,
   "metadata": {},
   "outputs": [
    {
     "name": "stdout",
     "output_type": "stream",
     "text": [
      "attacking with power of 50\n",
      "attacking with arrows: arrows left- 100\n"
     ]
    },
    {
     "data": {
      "text/plain": [
       "True"
      ]
     },
     "execution_count": 11,
     "metadata": {},
     "output_type": "execute_result"
    }
   ],
   "source": [
    "class User:\n",
    "    def sign_in(self):\n",
    "        print('logged in')\n",
    "\n",
    "# All character must sign in so we can use inheritance to inherit the sign_in method.\n",
    "class Wizard(User):\n",
    "    def __init__(self, name, power):\n",
    "        self.name = name\n",
    "        self.power = power\n",
    "    \n",
    "    def attack(self):\n",
    "        print(f'attacking with power of {self.power}')\n",
    "\n",
    "class Archer(User):\n",
    "    def __init__(self, name, num_arrows):\n",
    "        self.name = name\n",
    "        self.num_arrows = num_arrows\n",
    "    \n",
    "    def attack(self):\n",
    "        print(f'attacking with arrows: arrows left- {self.num_arrows}')\n",
    "\n",
    "wizard1 = Wizard('Achraf', 50)\n",
    "archer1 = Archer('Robin', 100)\n",
    "\n",
    "wizard1.attack()\n",
    "archer1.attack()\n",
    "\n",
    "## isinstance ##\n",
    "isinstance(wizard1, Wizard) # True\n",
    "isinstance(wizard1, User) # True\n",
    "isinstance(wizard1, object) # True -- methods belong to object --"
   ]
  },
  {
   "cell_type": "markdown",
   "metadata": {},
   "source": [
    "#### Multiple Inheritance"
   ]
  },
  {
   "cell_type": "markdown",
   "metadata": {},
   "source": [
    "- some programming languages don't allow multiple inheritance, because it is tricky someway. You need to make sure you understand how these classes are implemented and make sure you are not overwriting anything."
   ]
  },
  {
   "cell_type": "code",
   "execution_count": 67,
   "metadata": {},
   "outputs": [
    {
     "name": "stdout",
     "output_type": "stream",
     "text": [
      "attacking with arrows: arrows left- 99\n",
      "None\n",
      "attacking with power of 100\n"
     ]
    }
   ],
   "source": [
    "class User:\n",
    "    def sign_in(self):\n",
    "        print('logged in')\n",
    "\n",
    "# All character must sign in so we can use inheritance to inherit the sign_in method.\n",
    "class Wizard(User):\n",
    "    def __init__(self, name, power):\n",
    "        self.name = name\n",
    "        self.power = power\n",
    "    \n",
    "    def attack(self):\n",
    "        print(f'attacking with power of {self.power}')\n",
    "\n",
    "class Archer(User):\n",
    "    def __init__(self, name, arrows):\n",
    "        self.name = name\n",
    "        self.arrows = arrows\n",
    "    \n",
    "    def check_arrows(self):\n",
    "        print(f'attacking with arrows: arrows left- {self.arrows}')\n",
    "    \n",
    "    def run(self):\n",
    "        print('run really fast')\n",
    "\n",
    "class Hybrid(Wizard, Archer):\n",
    "    # pass\n",
    "    def __init__(self, name, power, arrows):\n",
    "        Archer.__init__(self, name, arrows)\n",
    "        Wizard.__init__(self, name, power)\n",
    "\n",
    "\n",
    "h1 = Hybrid('evil', 100, 99)\n",
    "print(h1.check_arrows())\n",
    "h1.attack()\n"
   ]
  },
  {
   "cell_type": "markdown",
   "metadata": {},
   "source": [
    "#### MRO - Method Resolution Order"
   ]
  },
  {
   "cell_type": "markdown",
   "metadata": {},
   "source": [
    "- The algorith using for doing MRO is **Depth First Search**."
   ]
  },
  {
   "cell_type": "code",
   "execution_count": 70,
   "metadata": {},
   "outputs": [
    {
     "name": "stdout",
     "output_type": "stream",
     "text": [
      "1\n",
      "[<class '__main__.D'>, <class '__main__.B'>, <class '__main__.C'>, <class '__main__.A'>, <class 'object'>]\n"
     ]
    }
   ],
   "source": [
    "#MRO - Method Resolution Order\n",
    "class A:\n",
    "    num = 10\n",
    "\n",
    "\n",
    "class B(A):\n",
    "    pass\n",
    "\n",
    "class C(A):\n",
    "    num = 1\n",
    "\n",
    "class D(B, C):\n",
    "    pass \n",
    " \n",
    "print(D.num)\n",
    "# print(D.__mro__)\n",
    "print(D.mro())"
   ]
  },
  {
   "cell_type": "markdown",
   "metadata": {},
   "source": [
    "#### Polymorphism\n",
    "\n",
    "- **Definition**:  \n",
    "  Polymorphism, derived from \"poly\" (many) and \"morphism\" (forms), refers to the ability of different classes to be treated as instances of the same class through a shared interface. In Python, polymorphism allows different classes to share the same method name while allowing these methods to behave differently depending on which object calls them.\n",
    "\n",
    "- **Purpose**:  \n",
    "  Polymorphism enables the ability to redefine methods in derived classes, allowing objects to take on different forms in different scenarios. This flexibility makes it easier to write code that can work with objects of different types, as long as they implement the expected interface."
   ]
  },
  {
   "cell_type": "code",
   "execution_count": 15,
   "metadata": {},
   "outputs": [
    {
     "name": "stdout",
     "output_type": "stream",
     "text": [
      "attacking with power of 50\n",
      "attacking with arrows: arrows left- 100\n"
     ]
    }
   ],
   "source": [
    "class User:\n",
    "    def sign_in(self):\n",
    "        print('logged in')\n",
    "    \n",
    "    def attack(self):\n",
    "        print('do nothing') # Default behavior for a generic User\n",
    "\n",
    "class Wizard(User):\n",
    "    def __init__(self, name, power):\n",
    "        self.name = name\n",
    "        self.power = power\n",
    "    \n",
    "    def attack(self):\n",
    "        # Overriding the attack method in User\n",
    "        # User.attack(self)\n",
    "        print(f'attacking with power of {self.power}')\n",
    "\n",
    "class Archer(User):\n",
    "    def __init__(self, name, num_arrows):\n",
    "        self.name = name\n",
    "        self.num_arrows = num_arrows\n",
    "    \n",
    "    def attack(self):\n",
    "        # Overriding the attack method in User\n",
    "        print(f'attacking with arrows: arrows left- {self.num_arrows}')\n",
    "\n",
    "wizard1 = Wizard('Achraf', 50)\n",
    "archer1 = Archer('Robin', 100)\n",
    "\n",
    "# Using polymorphism to call the attack method\n",
    "\n",
    "# def player_attack(char):\n",
    "#     char.attack()\n",
    "\n",
    "# player_attack(wizard1)\n",
    "# player_attack(archer1)\n",
    "\n",
    "for char in [wizard1, archer1]:\n",
    "    char.attack()"
   ]
  },
  {
   "cell_type": "markdown",
   "metadata": {},
   "source": [
    "### Review the 4 Pillara of OOP"
   ]
  },
  {
   "cell_type": "code",
   "execution_count": 17,
   "metadata": {},
   "outputs": [
    {
     "name": "stdout",
     "output_type": "stream",
     "text": [
      "Simon is just walking around\n",
      "Sally is just walking around\n",
      "Tom is just walking around\n"
     ]
    }
   ],
   "source": [
    "\n",
    "class Pets():\n",
    "    animals = []\n",
    "    def __init__(self, animals):\n",
    "        self.animals = animals\n",
    "\n",
    "    def walk(self):\n",
    "        for animal in self.animals:\n",
    "            print(animal.walk())\n",
    "\n",
    "class Cat():\n",
    "    is_lazy = True\n",
    "\n",
    "    def __init__(self, name, age):\n",
    "        self.name = name\n",
    "        self.age = age\n",
    "\n",
    "    def walk(self):\n",
    "        return f'{self.name} is just walking around'\n",
    "\n",
    "class Simon(Cat):\n",
    "    def sing(self, sounds):\n",
    "        return f'{sounds}'\n",
    "\n",
    "class Sally(Cat):\n",
    "    def sing(self, sounds):\n",
    "        return f'{sounds}'\n",
    "\n",
    "#1 Add nother Cat\n",
    "class Tom(Cat):\n",
    "    def sing(self, sounds):\n",
    "        return f'{sounds}'\n",
    "    \n",
    "#2 Create a list of all of the pets (create 3 cat instances from the above)\n",
    "my_cats = []\n",
    "cat1 = Simon('Simon', 3)\n",
    "cat2 = Sally('Sally', 5)\n",
    "cat3 = Tom('Tom', 2)\n",
    "my_cats.append(cat1)\n",
    "my_cats.append(cat2)\n",
    "my_cats.append(cat3)\n",
    "# print(my_cats)\n",
    "#3 Instantiate the Pet class with all your cats use variable my_pets\n",
    "my_pets = Pets(my_cats)\n",
    "\n",
    "#4 Output all of the cats walking using the my_pets instance\n",
    "my_pets.walk()"
   ]
  },
  {
   "cell_type": "markdown",
   "metadata": {},
   "source": [
    "#### 1. Encapsulation\n",
    "\n",
    "- **Definition**:  \n",
    "  Encapsulation is the concept of bundling data and methods that operate on that data within a single unit or class. It restricts access to some of the object's components and can prevent accidental modification of data.\n",
    "\n",
    "- **Example in Code**:  \n",
    "  - **Classes and Methods**: The `Pets` and `Cat` classes encapsulate their attributes (`animals`, `name`, `age`) and methods (`__init__`, `walk`, `sing`) within themselves.\n",
    "  - **Access Control**: Although Python does not enforce access control strictly, using class-based design naturally encapsulates functionality and data within objects.\n",
    "\n",
    "  ```python\n",
    "  class Cat():\n",
    "      is_lazy = True\n",
    "\n",
    "      def __init__(self, name, age):\n",
    "          self.name = name\n",
    "          self.age = age\n",
    "\n",
    "      def walk(self):\n",
    "          return f'{self.name} is just walking around'\n",
    "  ```\n",
    "\n",
    "  - **Encapsulated Data and Behavior**: The `Cat` class encapsulates attributes like `name`, `age`, and behavior such as walking (`walk` method). The `Pets` class encapsulates a list of animals and the behavior of making them walk.\n",
    "\n",
    "#### 2. Abstraction\n",
    "\n",
    "- **Definition**:  \n",
    "  Abstraction involves hiding complex implementation details and exposing only the necessary parts of an object to interact with it.\n",
    "\n",
    "- **Example in Code**:  \n",
    "  - **Simplified Interaction**: The `walk` method in the `Pets` class abstracts the details of how each `Cat` walks. The user of the `Pets` class only needs to call `my_pets.walk()` to make all cats walk, without knowing the specifics of each `Cat` instance.\n",
    "\n",
    "  ```python\n",
    "  class Pets():\n",
    "      def __init__(self, animals):\n",
    "          self.animals = animals\n",
    "\n",
    "      def walk(self):\n",
    "          for animal in self.animals:\n",
    "              print(animal.walk())\n",
    "  ```\n",
    "\n",
    "  - **Abstraction of Behavior**: The `Pets` class provides a high-level method `walk` that hides the details of iterating over each `Cat` and calling their respective `walk` method. This abstraction makes it easier to manage the group of pets.\n",
    "\n",
    "#### 3. Inheritance\n",
    "\n",
    "- **Definition**:  \n",
    "  Inheritance is a mechanism that allows a new class (derived class) to inherit properties and behaviors from an existing class (base class). This enables code reuse and establishes a hierarchical relationship between classes.\n",
    "\n",
    "- **Example in Code**:  \n",
    "  - **Subclassing `Cat`**: The classes `Simon`, `Sally`, and `Tom` inherit from the `Cat` class, gaining access to its attributes and methods.\n",
    "\n",
    "  ```python\n",
    "  class Simon(Cat):\n",
    "      def sing(self, sounds):\n",
    "          return f'{sounds}'\n",
    "\n",
    "  class Sally(Cat):\n",
    "      def sing(self, sounds):\n",
    "          return f'{sounds}'\n",
    "\n",
    "  class Tom(Cat):\n",
    "      def sing(self, sounds):\n",
    "          return f'{sounds}'\n",
    "  ```\n",
    "\n",
    "  - **Inherited Behavior**: Each subclass (`Simon`, `Sally`, `Tom`) inherits the `walk` method from `Cat` and can override or extend it if necessary.\n",
    "\n",
    "#### 4. Polymorphism\n",
    "\n",
    "- **Definition**:  \n",
    "  Polymorphism allows different classes to be treated as instances of the same class through a shared interface, often by overriding methods in derived classes.\n",
    "\n",
    "- **Example in Code**:  \n",
    "  - **Method Overriding**: While the `walk` method is implemented in the `Cat` class, polymorphism is exhibited when this method is called on instances of `Simon`, `Sally`, and `Tom`, each of which may implement or inherit the method differently.\n",
    "\n",
    "  - **Polymorphic Behavior**: The `walk` method is the same across `Simon`, `Sally`, and `Tom`, but if needed, each subclass could have a unique implementation.\n",
    "\n",
    "  ```python\n",
    "  my_pets.walk()\n",
    "  # Outputs:\n",
    "  # Simon is just walking around\n",
    "  # Sally is just walking around\n",
    "  # Tom is just walking around\n",
    "  ```\n",
    "\n",
    "  - **Shared Interface**: The loop in the `walk` method of the `Pets` class demonstrates polymorphism by treating all elements in `self.animals` as objects with a `walk` method, regardless of their specific subclass."
   ]
  },
  {
   "cell_type": "markdown",
   "metadata": {},
   "source": [
    "### Super()"
   ]
  },
  {
   "cell_type": "code",
   "execution_count": 22,
   "metadata": {},
   "outputs": [
    {
     "name": "stdout",
     "output_type": "stream",
     "text": [
      "ashrafmahmoud@gmail.com\n"
     ]
    }
   ],
   "source": [
    "class User:\n",
    "    def __init__(self, email):\n",
    "        self.email = email\n",
    "\n",
    "    def sign_in(self):\n",
    "        print('logged in')\n",
    "\n",
    "class Wizard(User):\n",
    "    # 1. we can add more attributes to the wizard class, inificient way.\n",
    "    # def __init__(self, name, power, email):\n",
    "    #     self.email = email\n",
    "    #     self.name = name\n",
    "    #     self.power = power\n",
    "\n",
    "    # # 2. we can use User init method. \n",
    "    # def __init__(self, name, power, email):\n",
    "    #     User.__init__(self, email)\n",
    "    #     self.email = email\n",
    "    #     self.name = name\n",
    "    #     self.power = power\n",
    "\n",
    "    # 3. we can use super() method to call the parent class init method\n",
    "    def __init__(self, name, power, email):\n",
    "        super().__init__(email) # super() is a shortcut to call the Super(parent) class init method\n",
    "        self.name = name\n",
    "        self.power = power\n",
    "    \n",
    "    def attack(self):\n",
    "        print(f'attacking with power of {self.power}')\n",
    "\n",
    "wizard1 = Wizard('Achraf', 90, 'ashrafmahmoud@gmail.com')\n",
    "print(wizard1.email)"
   ]
  },
  {
   "cell_type": "markdown",
   "metadata": {},
   "source": [
    "### Object Introspection\n",
    "\n",
    "**Definition**:  \n",
    "Object introspection refers to the ability to examine the type or properties of an object at runtime. In Python, introspection allows us to explore objects dynamically and understand their structure, methods, and attributes.\n",
    "\n",
    "**Purpose**:  \n",
    "Introspection is useful for debugging, exploring unfamiliar code, and dynamically interacting with objects. It provides a way to inspect and interact with objects without needing to know their specific details at compile time.\n",
    "\n",
    "#### Using the `dir()` Function\n",
    "\n",
    "- **`dir()` Function**:  \n",
    "  The `dir()` function is a built-in Python function that returns a list of all the methods and attributes of a given object. It can be used on any object, including modules, functions, strings, lists, and custom classes."
   ]
  },
  {
   "cell_type": "code",
   "execution_count": 24,
   "metadata": {},
   "outputs": [
    {
     "name": "stdout",
     "output_type": "stream",
     "text": [
      "['__add__', '__class__', '__contains__', '__delattr__', '__dir__', '__doc__', '__eq__', '__format__', '__ge__', '__getattribute__', '__getitem__', '__getnewargs__', '__gt__', '__hash__', '__init__', '__init_subclass__', '__iter__', '__le__', '__len__', '__lt__', '__mod__', '__mul__', '__ne__', '__new__', '__reduce__', '__reduce_ex__', '__repr__', '__rmod__', '__rmul__', '__setattr__', '__sizeof__', '__str__', '__subclasshook__', 'capitalize', 'casefold', 'center', 'count', 'encode', 'endswith', 'expandtabs', 'find', 'format', 'format_map', 'index', 'isalnum', 'isalpha', 'isascii', 'isdecimal', 'isdigit', 'isidentifier', 'islower', 'isnumeric', 'isprintable', 'isspace', 'istitle', 'isupper', 'join', 'ljust', 'lower', 'lstrip', 'maketrans', 'partition', 'replace', 'rfind', 'rindex', 'rjust', 'rpartition', 'rsplit', 'rstrip', 'split', 'splitlines', 'startswith', 'strip', 'swapcase', 'title', 'translate', 'upper', 'zfill']\n"
     ]
    }
   ],
   "source": [
    "print(dir('wizard1'))"
   ]
  },
  {
   "cell_type": "markdown",
   "metadata": {},
   "source": [
    "### Dunder Methods"
   ]
  },
  {
   "cell_type": "code",
   "execution_count": 47,
   "metadata": {},
   "outputs": [
    {
     "name": "stdout",
     "output_type": "stream",
     "text": [
      "red\n",
      "red\n",
      "HEY YOOU\n",
      "5\n",
      "yess??\n",
      "JOO\n"
     ]
    }
   ],
   "source": [
    "class Toy():\n",
    "    def __init__(self, color, age):\n",
    "        self.color = color\n",
    "        self.age = age\n",
    "        self.my_dict = {\n",
    "            'name': 'JOO',\n",
    "            'has_pets': False\n",
    "        }\n",
    "\n",
    "    # we can make customization to these Dunder methods.\n",
    "    def __str__(self):\n",
    "        return f'{self.color}'\n",
    "\n",
    "    def __len__(self):\n",
    "        return 5\n",
    "    \n",
    "    # def __del__(self):\n",
    "    #     print('deleted!')\n",
    "    \n",
    "    def __call__(self):  \n",
    "        return('yess??')\n",
    "    \n",
    "    def __getitem__(self, i):\n",
    "        return self.my_dict[i]\n",
    " \n",
    "action_figure = Toy('red', 0)\n",
    "print(action_figure.__str__())\n",
    "print(str(action_figure)) ## It is modified just in this specific object.\n",
    "print(str('HEY YOOU'))\n",
    "print(len(action_figure))\n",
    "# del action_figure\n",
    "print(action_figure())\n",
    "print(action_figure['name'])\n"
   ]
  },
  {
   "cell_type": "code",
   "execution_count": 56,
   "metadata": {},
   "outputs": [
    {
     "name": "stdout",
     "output_type": "stream",
     "text": [
      "1000\n",
      "5\n",
      "True\n"
     ]
    }
   ],
   "source": [
    "class SuperList(list):\n",
    "        \n",
    "    def __len__(self):\n",
    "        return 1000\n",
    "    \n",
    "super_list1 = SuperList()\n",
    "print(len(super_list1))\n",
    "super_list1.append(5)\n",
    "print(super_list1[0])\n",
    "print(issubclass(SuperList, list))\n"
   ]
  },
  {
   "cell_type": "markdown",
   "metadata": {},
   "source": [
    "# Having Fun :)"
   ]
  },
  {
   "cell_type": "code",
   "execution_count": null,
   "metadata": {},
   "outputs": [],
   "source": [
    "## Olympics Logo ##\n",
    "import turtle\n",
    "\n",
    "def draw_ring(color, x, y):\n",
    "    turtle.penup()\n",
    "    turtle.color(color)\n",
    "    turtle.goto(x, y)\n",
    "    turtle.pendown()\n",
    "    turtle.circle(50)\n",
    "\n",
    "turtle.speed(5)\n",
    "turtle.width(5)\n",
    "draw_ring('blue', -120, 0)\n",
    "draw_ring('black', 0, 0)\n",
    "draw_ring('red', 120, 0)\n",
    "draw_ring('yellow', -60, -50)\n",
    "draw_ring('green', 60, -50)\n",
    "\n",
    "turtle.hideturtle()\n",
    "turtle.done()"
   ]
  },
  {
   "cell_type": "markdown",
   "metadata": {},
   "source": [
    "----------------------------------------------\n",
    "\n",
    "$$ Thank \\space you \\space ♡ $$\n",
    "$$ Ashraf \\space Sobh $$"
   ]
  }
 ],
 "metadata": {
  "kernelspec": {
   "display_name": "Python 3.10 (tensorflow)",
   "language": "python",
   "name": "tensorflow"
  },
  "language_info": {
   "codemirror_mode": {
    "name": "ipython",
    "version": 3
   },
   "file_extension": ".py",
   "mimetype": "text/x-python",
   "name": "python",
   "nbconvert_exporter": "python",
   "pygments_lexer": "ipython3",
   "version": "3.8.15"
  }
 },
 "nbformat": 4,
 "nbformat_minor": 2
}
