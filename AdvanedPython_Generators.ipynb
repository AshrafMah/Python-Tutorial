{
 "cells": [
  {
   "cell_type": "markdown",
   "metadata": {},
   "source": [
    "# Advanced Python"
   ]
  },
  {
   "cell_type": "markdown",
   "metadata": {},
   "source": [
    "## Generators"
   ]
  },
  {
   "cell_type": "markdown",
   "metadata": {},
   "source": [
    "- **Iterable**: An object in Python that you can loop through (e.g., lists, strings, dictionaries). Under the hood, iterables use an iterator to traverse through items.\n",
    "- **Generators**: A type of iterable, but they don't store their contents in memory. Instead, they generate items one at a time and only when requested, which makes them more memory-efficient than traditional iterables."
   ]
  },
  {
   "cell_type": "markdown",
   "metadata": {},
   "source": [
    "### Traditional List Creation"
   ]
  },
  {
   "cell_type": "code",
   "execution_count": 3,
   "metadata": {},
   "outputs": [
    {
     "name": "stdout",
     "output_type": "stream",
     "text": [
      "[0, 2, 4, 6, 8, 10, 12, 14, 16, 18, 20, 22, 24, 26, 28, 30, 32, 34, 36, 38, 40, 42, 44, 46, 48, 50, 52, 54, 56, 58, 60, 62, 64, 66, 68, 70, 72, 74, 76, 78, 80, 82, 84, 86, 88, 90, 92, 94, 96, 98, 100, 102, 104, 106, 108, 110, 112, 114, 116, 118, 120, 122, 124, 126, 128, 130, 132, 134, 136, 138, 140, 142, 144, 146, 148, 150, 152, 154, 156, 158, 160, 162, 164, 166, 168, 170, 172, 174, 176, 178, 180, 182, 184, 186, 188, 190, 192, 194, 196, 198]\n",
      "[0, 1, 2, 3, 4, 5, 6, 7, 8, 9, 10, 11, 12, 13, 14, 15, 16, 17, 18, 19, 20, 21, 22, 23, 24, 25, 26, 27, 28, 29, 30, 31, 32, 33, 34, 35, 36, 37, 38, 39, 40, 41, 42, 43, 44, 45, 46, 47, 48, 49, 50, 51, 52, 53, 54, 55, 56, 57, 58, 59, 60, 61, 62, 63, 64, 65, 66, 67, 68, 69, 70, 71, 72, 73, 74, 75, 76, 77, 78, 79, 80, 81, 82, 83, 84, 85, 86, 87, 88, 89, 90, 91, 92, 93, 94, 95, 96, 97, 98, 99]\n"
     ]
    }
   ],
   "source": [
    "# range(100)\n",
    "# list(range(100))\n",
    "\n",
    "def make_list(num):\n",
    "    result = []\n",
    "    for i in range(num): \n",
    "        result.append(i*2)\n",
    "    return result\n",
    "\n",
    "my_list = make_list(100)\n",
    "print(my_list)\n",
    "print(list(range(10000)))"
   ]
  },
  {
   "cell_type": "markdown",
   "metadata": {},
   "source": [
    "### Generator Function Example\n",
    "\n",
    "Instead of returning a full list at once, you can use a generator to yield items one by one:"
   ]
  },
  {
   "cell_type": "code",
   "execution_count": 13,
   "metadata": {},
   "outputs": [
    {
     "name": "stdout",
     "output_type": "stream",
     "text": [
      "2\n"
     ]
    }
   ],
   "source": [
    "\n",
    "def generator_function(num):\n",
    "    for i in range(num):\n",
    "        yield i*2\n",
    "\n",
    "g = generator_function(100)\n",
    "next(g)\n",
    "print(next(g))\n",
    "\n",
    "# for item in generator_function(1000):\n",
    "#     print(item)\n",
    "\n"
   ]
  },
  {
   "cell_type": "markdown",
   "metadata": {},
   "source": [
    "- The `yield` statement turns a function into a generator, allowing it to produce a sequence of results over time rather than computing them all at once."
   ]
  },
  {
   "cell_type": "code",
   "execution_count": 17,
   "metadata": {},
   "outputs": [
    {
     "name": "stdout",
     "output_type": "stream",
     "text": [
      "2\n",
      "4\n",
      "6\n"
     ]
    }
   ],
   "source": [
    "def special_for(iterable):\n",
    "    iterator = iter(iterable)\n",
    "    while True:\n",
    "        try:\n",
    "            # print(iterator)\n",
    "            print(next(iterator)*2)\n",
    "        except StopIteration:\n",
    "            break\n",
    "\n",
    "special_for([1,2,3])"
   ]
  },
  {
   "cell_type": "code",
   "execution_count": 21,
   "metadata": {},
   "outputs": [
    {
     "name": "stdout",
     "output_type": "stream",
     "text": [
      "0\n",
      "1\n",
      "2\n",
      "3\n",
      "4\n",
      "5\n",
      "6\n",
      "7\n",
      "8\n",
      "9\n",
      "10\n",
      "11\n",
      "12\n",
      "13\n",
      "14\n",
      "15\n",
      "16\n",
      "17\n",
      "18\n",
      "19\n",
      "20\n",
      "21\n",
      "22\n",
      "23\n",
      "24\n",
      "25\n",
      "26\n",
      "27\n",
      "28\n",
      "29\n",
      "30\n",
      "31\n",
      "32\n",
      "33\n",
      "34\n",
      "35\n",
      "36\n",
      "37\n",
      "38\n",
      "39\n",
      "40\n",
      "41\n",
      "42\n",
      "43\n",
      "44\n",
      "45\n",
      "46\n",
      "47\n",
      "48\n",
      "49\n",
      "50\n",
      "51\n",
      "52\n",
      "53\n",
      "54\n",
      "55\n",
      "56\n",
      "57\n",
      "58\n",
      "59\n",
      "60\n",
      "61\n",
      "62\n",
      "63\n",
      "64\n",
      "65\n",
      "66\n",
      "67\n",
      "68\n",
      "69\n",
      "70\n",
      "71\n",
      "72\n",
      "73\n",
      "74\n",
      "75\n",
      "76\n",
      "77\n",
      "78\n",
      "79\n",
      "80\n",
      "81\n",
      "82\n",
      "83\n",
      "84\n",
      "85\n",
      "86\n",
      "87\n",
      "88\n",
      "89\n",
      "90\n",
      "91\n",
      "92\n",
      "93\n",
      "94\n",
      "95\n",
      "96\n",
      "97\n",
      "98\n",
      "99\n"
     ]
    }
   ],
   "source": [
    "class MyGen():\n",
    "    current = 0\n",
    "    def __init__(self, first, last):\n",
    "        self.first = first\n",
    "        self.last = last\n",
    "    \n",
    "    def __iter__(self):\n",
    "        return self\n",
    "    \n",
    "    def __next__(self):\n",
    "        if MyGen.current < self.last:\n",
    "            num = MyGen.current\n",
    "            MyGen.current += 1\n",
    "            return num\n",
    "        raise StopIteration\n",
    "\n",
    "    \n",
    "gen = MyGen(0, 100)\n",
    "for i in gen:\n",
    "    print(i)"
   ]
  },
  {
   "cell_type": "markdown",
   "metadata": {},
   "source": [
    "### Fibonacci Numbers Using Generators and Lists\n",
    "\n",
    "The Fibonacci sequence is a series of numbers where each number is the sum of the two preceding ones, usually starting with 0 and 1.\n",
    "\n",
    "#### Generator Approach\n",
    "\n",
    "Using a generator to produce Fibonacci numbers one at a time:"
   ]
  },
  {
   "cell_type": "code",
   "execution_count": 53,
   "metadata": {},
   "outputs": [
    {
     "name": "stdout",
     "output_type": "stream",
     "text": [
      "0\n",
      "1\n",
      "1\n",
      "2\n",
      "3\n",
      "5\n",
      "8\n",
      "13\n",
      "21\n",
      "34\n",
      "55\n",
      "89\n",
      "144\n",
      "233\n",
      "377\n",
      "610\n",
      "987\n",
      "1597\n",
      "2584\n",
      "4181\n"
     ]
    }
   ],
   "source": [
    "def fib(number):\n",
    "    n1 = 0 \n",
    "    n2 = 1\n",
    "    for i in range(number):\n",
    "        yield n1\n",
    "        temp = n1\n",
    "        n1 = n2\n",
    "        n2 = temp + n1\n",
    "\n",
    "for x in fib(20):\n",
    "    print(x)"
   ]
  },
  {
   "cell_type": "markdown",
   "metadata": {},
   "source": [
    "- **Explanation**:  \n",
    "  - The `fib` function uses `yield` to produce Fibonacci numbers one at a time.\n",
    "  - This is memory-efficient because it doesn't store the entire sequence in memory, just the current state."
   ]
  },
  {
   "cell_type": "markdown",
   "metadata": {},
   "source": [
    "#### List Approach\n",
    "\n",
    "Using a list to store and return all Fibonacci numbers at once:"
   ]
  },
  {
   "cell_type": "code",
   "execution_count": 55,
   "metadata": {},
   "outputs": [
    {
     "name": "stdout",
     "output_type": "stream",
     "text": [
      "[0, 1, 1, 2, 3, 5, 8, 13, 21, 34, 55, 89, 144, 233, 377, 610, 987, 1597, 2584, 4181]\n"
     ]
    }
   ],
   "source": [
    "def fib2(number):\n",
    "    n1= 0\n",
    "    n2 = 1\n",
    "    result = []\n",
    "    for i in range(number):\n",
    "        result.append(n1)\n",
    "        temp = n1\n",
    "        n1 = n2\n",
    "        n2 = temp + n1\n",
    "    return result\n",
    "    \n",
    "print(fib2(20))\n"
   ]
  },
  {
   "cell_type": "markdown",
   "metadata": {},
   "source": [
    "- **Explanation**:  \n",
    "  - The `fib2` function calculates the Fibonacci sequence and stores all the numbers in a list, which is returned at the end.\n",
    "  - This method uses more memory than the generator approach because it stores the entire sequence in memory."
   ]
  },
  {
   "cell_type": "markdown",
   "metadata": {},
   "source": [
    "#### Key Differences\n",
    "\n",
    "- **Memory Usage**: The generator (`fib`) is more memory-efficient as it generates each number on demand, while the list-based approach (`fib2`) stores all the numbers in memory.\n",
    "- **Use Case**: Use a generator when you need to process Fibonacci numbers on the fly or when working with a large number of elements. Use the list approach if you need to access all the numbers at once, especially in a small sequence."
   ]
  },
  {
   "cell_type": "markdown",
   "metadata": {},
   "source": [
    "### Benefits of Generators\n",
    "\n",
    "- **Memory Efficiency**: Since generators produce one item at a time, they are more memory-efficient than lists.\n",
    "- **Performance**: Generators are faster to create because they don't generate all items upfront. They are particularly useful for working with large datasets.\n",
    "\n",
    "Generators are a powerful feature in Python, enabling efficient and clean handling of iterables, especially when dealing with large data or when you need to optimize memory usage."
   ]
  },
  {
   "cell_type": "markdown",
   "metadata": {},
   "source": [
    "# Having Fun :)"
   ]
  },
  {
   "cell_type": "code",
   "execution_count": 52,
   "metadata": {},
   "outputs": [
    {
     "data": {
      "image/png": "[encoded data removed]",
      "text/plain": [
       "<Figure size 400x400 with 1 Axes>"
      ]
     },
     "metadata": {},
     "output_type": "display_data"
    }
   ],
   "source": [
    "import matplotlib.pyplot as plt\n",
    "import numpy as np\n",
    "\n",
    "def draw_chessboard():\n",
    "    chessboard = np.ones((8, 8))\n",
    "    chessboard[1::2, ::2] = 0\n",
    "    chessboard[::2, 1::2] = 0\n",
    "\n",
    "    plt.figure(figsize=(4,4))\n",
    "    plt.imshow(chessboard, cmap='gray', interpolation='nearest')\n",
    "    plt.xticks([])\n",
    "    plt.yticks([])\n",
    "    plt.title('Chessboard', fontsize=20)\n",
    "    plt.show()\n",
    "\n",
    "draw_chessboard()"
   ]
  },
  {
   "cell_type": "markdown",
   "metadata": {},
   "source": [
    "----------------------------------------------\n",
    "\n",
    "$$ Thank \\space you \\space ♡ $$\n",
    "$$ Ashraf \\space Sobh $$"
   ]
  }
 ],
 "metadata": {
  "kernelspec": {
   "display_name": "Python 3.10 (tensorflow)",
   "language": "python",
   "name": "tensorflow"
  },
  "language_info": {
   "codemirror_mode": {
    "name": "ipython",
    "version": 3
   },
   "file_extension": ".py",
   "mimetype": "text/x-python",
   "name": "python",
   "nbconvert_exporter": "python",
   "pygments_lexer": "ipython3",
   "version": "3.8.15"
  }
 },
 "nbformat": 4,
 "nbformat_minor": 2
}
