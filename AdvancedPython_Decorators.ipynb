{
 "cells": [
  {
   "cell_type": "markdown",
   "metadata": {},
   "source": [
    "# Advanced Python"
   ]
  },
  {
   "cell_type": "markdown",
   "metadata": {},
   "source": [
    "## Decorators"
   ]
  },
  {
   "cell_type": "markdown",
   "metadata": {},
   "source": [
    "**Decorators** in Python are a powerful and elegant way to modify the behavior of a function or method. They are often used for logging, enforcing access control, instrumentation, caching, and more.\n",
    "\n",
    "---\n",
    "\n",
    "### Decorators Overview\n",
    "\n",
    "**Definition**:  \n",
    "A decorator is a function that wraps another function, allowing you to add functionality before and after the wrapped function runs without modifying its structure."
   ]
  },
  {
   "cell_type": "markdown",
   "metadata": {},
   "source": [
    "### Higher-Order Functions (HOF)\n",
    "\n",
    "**Definition**:  \n",
    "A higher-order function is a function that either:\n",
    "- Takes one or more functions as arguments.\n",
    "- Returns a function as its result."
   ]
  },
  {
   "cell_type": "code",
   "execution_count": null,
   "metadata": {},
   "outputs": [],
   "source": [
    "# Higher Order Function HOF\n",
    "\n",
    "def greet(func):\n",
    "    func()\n",
    "\n",
    "def greet2():\n",
    "    def func():\n",
    "        return 5\n",
    "    return func\n",
    "\n",
    "# map()\n",
    "\n",
    "# filter()"
   ]
  },
  {
   "cell_type": "markdown",
   "metadata": {},
   "source": [
    "- `greet` is a higher-order function because it takes another function as an argument.\n",
    "- `greet2` is a higher-order function because it returns another function."
   ]
  },
  {
   "cell_type": "markdown",
   "metadata": {},
   "source": [
    "### Decorators in Action\n",
    "\n",
    "1. **Basic Decorator**:"
   ]
  },
  {
   "cell_type": "code",
   "execution_count": 22,
   "metadata": {},
   "outputs": [
    {
     "name": "stdout",
     "output_type": "stream",
     "text": [
      "*********\n",
      "helloooo\n",
      "*********\n",
      "*********\n",
      "see you later\n",
      "*********\n",
      "*********\n",
      "*********\n",
      "see you later\n",
      "*********\n",
      "*********\n",
      "*********\n",
      "*********\n",
      "helloooo\n",
      "*********\n",
      "*********\n"
     ]
    }
   ],
   "source": [
    "# Decorator\n",
    "\n",
    "def my_decorator(func):\n",
    "    def wrap_func():  \n",
    "        print('*********')\n",
    "        func()\n",
    "        print('*********')\n",
    "    return wrap_func\n",
    "\n",
    "@my_decorator\n",
    "def hello():\n",
    "    print('helloooo')\n",
    "\n",
    "@my_decorator\n",
    "def bye():\n",
    "    print('see you later')\n",
    "\n",
    "hello()\n",
    "bye()\n",
    "\n",
    "# my_decorator(bye)()\n",
    "# hello2 = my_decorator(hello)\n",
    "# hello2()"
   ]
  },
  {
   "cell_type": "markdown",
   "metadata": {},
   "source": [
    "- **How It Works**:\n",
    "    - `my_decorator` is a decorator function that wraps another function (`func`) with additional behavior.\n",
    "    - The `wrap_func` function adds functionality before and after calling `func`.\n",
    "    - The `@my_decorator` syntax is a shorthand for `hello = my_decorator(hello)`, which modifies `hello` to include the additional behavior.\n",
    "    - When `hello()` or `bye()` is called, the output will include the additional print statements from the `wrap_func`."
   ]
  },
  {
   "cell_type": "markdown",
   "metadata": {},
   "source": [
    "2. **Decorator Pattern with Arguments**:"
   ]
  },
  {
   "cell_type": "code",
   "execution_count": 29,
   "metadata": {},
   "outputs": [
    {
     "name": "stdout",
     "output_type": "stream",
     "text": [
      "hiiii :)\n"
     ]
    }
   ],
   "source": [
    "  # Decorator Pattern\n",
    "def my_decorator(func):\n",
    "    def wrap_func(*args, **kwargs):  \n",
    "        func(*args, **kwargs)\n",
    "    return wrap_func\n",
    "\n",
    "@my_decorator\n",
    "def hello(greeting, emoji=':)'):\n",
    "    print(greeting, emoji)\n",
    "\n",
    "hello('hiiii')"
   ]
  },
  {
   "cell_type": "markdown",
   "metadata": {},
   "source": [
    "- **How It Works**:\n",
    "    - The `wrap_func` function is modified to accept any number of positional and keyword arguments using `*args` and `**kwargs`.\n",
    "    - This allows the decorator to work with functions that require arguments.\n",
    "    - When `hello('hiiii')` is called, it passes the arguments to `wrap_func`, which then passes them to the original `hello` function.\n",
    "\n",
    "### Key Concepts\n",
    "\n",
    "- **Function Wrapping**: Decorators wrap functions, modifying their behavior.\n",
    "- **@decorator Syntax**: The `@decorator` syntax is a syntactic sugar for applying a decorator to a function.\n",
    "- **Higher-Order Functions**: Decorators are higher-order functions because they accept functions as arguments and return a new function.\n",
    "\n",
    "### Practical Use Cases\n",
    "\n",
    "- **Logging**: Automatically log entry and exit points of functions.\n",
    "- **Timing**: Measure the time a function takes to execute.\n",
    "- **Access Control**: Enforce user permissions before executing sensitive functions.\n",
    "- **Memoization**: Cache the results of expensive function calls."
   ]
  },
  {
   "cell_type": "code",
   "execution_count": 38,
   "metadata": {},
   "outputs": [
    {
     "name": "stdout",
     "output_type": "stream",
     "text": [
      "took 6.14227294921875 s\n"
     ]
    }
   ],
   "source": [
    "# Measure the performance of a function by timing how long it takes to execute.\n",
    "from time import time\n",
    "\n",
    "def performance(fn):\n",
    "    def wrapper(*args, **kwargs):\n",
    "        t1 = time() # Start time\n",
    "        result = fn(*args, **kwargs)    # Execute the function\n",
    "        t2 = time() # End time\n",
    "        print(f'took {t2-t1} s')\n",
    "        return result\n",
    "    return wrapper \n",
    "\n",
    "@performance\n",
    "def long_time():\n",
    "    for i in range(100000000):\n",
    "        i*5\n",
    "\n",
    "long_time()"
   ]
  },
  {
   "cell_type": "code",
   "execution_count": 41,
   "metadata": {},
   "outputs": [
    {
     "name": "stdout",
     "output_type": "stream",
     "text": [
      "message has been sent\n"
     ]
    }
   ],
   "source": [
    "# Create an @authenticated decorator that only allows the function to run is user1 has 'valid' set to True:\n",
    "user1 = {\n",
    "    'name': 'Amego',\n",
    "    'valid': True #changing this will either run or not run the message_friends function.\n",
    "}\n",
    "\n",
    "def authenticated(fn):\n",
    "  def wrapper(*args, **kwargs):\n",
    "          if args[0][\"valid\"]:\n",
    "              return fn(*args, **kwargs)   \n",
    "          else:\n",
    "               return print(\"Invalid user\")\n",
    "  return wrapper \n",
    "\n",
    "@authenticated\n",
    "def message_friends(user):\n",
    "    print('message has been sent')\n",
    "\n",
    "message_friends(user1)"
   ]
  },
  {
   "cell_type": "markdown",
   "metadata": {},
   "source": [
    "----------------------------------------------\n",
    "\n",
    "$$ Thank \\space you \\space ♡ $$\n",
    "$$ Ashraf \\space Sobh $$"
   ]
  }
 ],
 "metadata": {
  "kernelspec": {
   "display_name": "Python 3.10 (tensorflow)",
   "language": "python",
   "name": "tensorflow"
  },
  "language_info": {
   "codemirror_mode": {
    "name": "ipython",
    "version": 3
   },
   "file_extension": ".py",
   "mimetype": "text/x-python",
   "name": "python",
   "nbconvert_exporter": "python",
   "pygments_lexer": "ipython3",
   "version": "3.8.15"
  }
 },
 "nbformat": 4,
 "nbformat_minor": 2
}
