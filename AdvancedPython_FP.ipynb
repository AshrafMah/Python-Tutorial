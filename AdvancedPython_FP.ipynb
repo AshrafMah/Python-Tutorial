{
 "cells": [
  {
   "cell_type": "markdown",
   "metadata": {},
   "source": [
    "# Advanced Python"
   ]
  },
  {
   "cell_type": "markdown",
   "metadata": {},
   "source": [
    "## Functional Programming"
   ]
  },
  {
   "cell_type": "markdown",
   "metadata": {},
   "source": [
    "- **Definition**:  \n",
    "  Functional programming is another programming paradigm, similar to object-oriented programming, which provides a distinct way of thinking about and organizing code.\n",
    "\n",
    "- **Key Concept**:  \n",
    "  - <span style='color:green;'>**Remember**</span>: A **paradigm** is a way for us to think about our code and organize it effectively.\n",
    "  \n",
    "- **What is Functional Programming?**  \n",
    "  Functional programming focuses on organizing code into separate, distinct chunks that perform specific tasks. This approach ensures that each part of the code is well-organized and makes sense based on its functionality.\n",
    "\n",
    "- **Characteristics**:\n",
    "  - **Decomposition into Functions**:  \n",
    "    Functional programming decomposes problems into a set of functions. These functions ideally:\n",
    "    - Take inputs and produce outputs.\n",
    "    - Do not maintain any internal state that affects the output for a given input.\n",
    "  \n",
    "  - **Pure Functions**:  \n",
    "    Pure functions are a key concept, meaning the same input will always result in the same output without side effects.\n",
    "\n",
    "    **Example**: \n",
    "    - **Input**: `[1, 2, 3]` \n",
    "    - **Function**: `lambda x: x * 2`\n",
    "    - **Output**: `[2, 4, 6]`\n",
    "\n",
    "- **Examples of Functional Languages**:  \n",
    "  - Well-known functional programming languages include the ML family (Standard ML, OCaml, and other variants) and Haskell.\n",
    "\n",
    "### Goals of the Functional Programming Paradigm\n",
    "\n",
    "- **Clarity and Understandability**:  \n",
    "  Code should be clear and easy to understand, making it straightforward to follow and reason about.\n",
    "\n",
    "- **Ease of Extension and Maintenance**:  \n",
    "  Code should be easy to extend with new features and maintain over time, reducing complexity.\n",
    "\n",
    "- **Memory Efficiency**:  \n",
    "  Functional programming aims to use memory efficiently, often by avoiding mutable state and side effects.\n",
    "\n",
    "- **DRY (Don’t Repeat Yourself)**:  \n",
    "  Avoid code duplication by creating reusable functions that encapsulate common functionality."
   ]
  },
  {
   "cell_type": "code",
   "execution_count": 1,
   "metadata": {},
   "outputs": [
    {
     "name": "stdout",
     "output_type": "stream",
     "text": [
      "[2, 4, 6]\n",
      "[2, 4, 6]\n"
     ]
    }
   ],
   "source": [
    "## Without Side Effects\n",
    "def multiply_by2(li):\n",
    "    new_list = []\n",
    "    for item in li:\n",
    "        new_list.append(item*2)\n",
    "    return new_list\n",
    "\n",
    "print(multiply_by2([1,2,3]))\n",
    "\n",
    "## With Side Effects\n",
    "new_list = [] #1\n",
    "def multiply_by2(li):\n",
    "    for item in li:\n",
    "        new_list.append(item*2)\n",
    "    return print(new_list) #2\n",
    "\n",
    "# new_list = ''\n",
    "multiply_by2([1,2,3])"
   ]
  },
  {
   "cell_type": "markdown",
   "metadata": {},
   "source": [
    "### Functional Programming Tools in Python\n",
    "\n",
    "Functional programming in Python often leverages built-in functions like `map()`, `filter()`, `zip()`, and `reduce()`. These tools help in applying functions to sequences and processing data efficiently.\n",
    "\n",
    "#### 1. `map()`\n",
    "\n",
    "- **Purpose**:  \n",
    "  The `map()` function applies a given function to all items in an input list (or any iterable) and returns a new map object, which can be converted to a set."
   ]
  },
  {
   "cell_type": "code",
   "execution_count": 5,
   "metadata": {},
   "outputs": [
    {
     "name": "stdout",
     "output_type": "stream",
     "text": [
      "[2, 4, 6]\n",
      "[1, 2, 3]\n"
     ]
    }
   ],
   "source": [
    "my_list = [1,2,3]\n",
    "def multiply_by2(item):\n",
    "    return item*2\n",
    "\n",
    "# Applying the function to each item in the list\n",
    "print(list(map(multiply_by2, my_list)))\n",
    "print(my_list)"
   ]
  },
  {
   "cell_type": "markdown",
   "metadata": {},
   "source": [
    "- In this example, `map()` applies the `multiply_by2` function to each item in `my_list`, resulting in a new list `[2, 4, 6]`. The original list remains unchanged."
   ]
  },
  {
   "cell_type": "markdown",
   "metadata": {},
   "source": [
    "#### 2. `filter()`\n",
    "\n",
    "- **Purpose**:  \n",
    "  The `filter()` function filters items in an iterable based on a function that returns `True` or `False`. It returns a filter object that can be converted to a list."
   ]
  },
  {
   "cell_type": "code",
   "execution_count": 7,
   "metadata": {},
   "outputs": [
    {
     "name": "stdout",
     "output_type": "stream",
     "text": [
      "[1, 3]\n",
      "[1, 2, 3]\n"
     ]
    }
   ],
   "source": [
    "my_list = [1,2,3]\n",
    "def multiply_by2(item):\n",
    "    return item*2\n",
    "\n",
    "def only_odd(item):\n",
    "    return item % 2 != 0\n",
    "\n",
    "# Filtering only odd numbers\n",
    "print(list(filter(only_odd, my_list)))\n",
    "print(my_list)"
   ]
  },
  {
   "cell_type": "markdown",
   "metadata": {},
   "source": [
    "- Here, `filter()` uses the `only_odd` function to return only the odd numbers from `my_list`, resulting in `[1, 3]`."
   ]
  },
  {
   "cell_type": "markdown",
   "metadata": {},
   "source": [
    "#### 3. `zip()`\n",
    "\n",
    "- **Purpose**:  \n",
    "  The `zip()` function takes multiple iterables (like lists or tuples) and combines them into a list of tuples, where each tuple contains elements from each iterable at the same position."
   ]
  },
  {
   "cell_type": "code",
   "execution_count": 10,
   "metadata": {},
   "outputs": [
    {
     "name": "stdout",
     "output_type": "stream",
     "text": [
      "[(1, 10, 100), (2, 20, 200), (3, 30, 300)]\n",
      "[1, 2, 3]\n"
     ]
    }
   ],
   "source": [
    "my_list = [1, 2, 3]\n",
    "your_list = [10, 20, 30] \n",
    "their_list = (100, 200, 300)  ## doesn't matter if it's a tuple or a list\n",
    "\n",
    "# Combining lists into a list of tuples\n",
    "print(list(zip(my_list, your_list, their_list)))\n",
    "print(my_list)"
   ]
  },
  {
   "cell_type": "markdown",
   "metadata": {},
   "source": [
    "- In this example, `zip()` creates a list of tuples where each tuple contains corresponding elements from `my_list`, `your_list`, and `their_list`."
   ]
  },
  {
   "cell_type": "markdown",
   "metadata": {},
   "source": [
    "#### 4. `reduce()`\n",
    "\n",
    "- **Purpose**:  \n",
    "  The `reduce()` function, available in the `functools` module, applies a rolling computation to sequential pairs of values in an iterable, reducing the iterable to a single cumulative value."
   ]
  },
  {
   "cell_type": "code",
   "execution_count": 12,
   "metadata": {},
   "outputs": [
    {
     "name": "stdout",
     "output_type": "stream",
     "text": [
      "0 1\n",
      "1 2\n",
      "3 3\n",
      "6\n"
     ]
    }
   ],
   "source": [
    "from functools import reduce\n",
    "\n",
    "my_list = [1, 2, 3]\n",
    "\n",
    "def accumulator(acc, item):\n",
    "    print(acc, item)\n",
    "    return acc + item\n",
    "\n",
    "# Reducing the list to a single cumulative value\n",
    "print(reduce(accumulator, my_list, 0))"
   ]
  },
  {
   "cell_type": "markdown",
   "metadata": {},
   "source": [
    "- The `reduce()` function uses the `accumulator` function to sum up all the values in `my_list`, starting with an initial value of `0`. The output is `6`, which is the sum of all the elements."
   ]
  },
  {
   "cell_type": "markdown",
   "metadata": {},
   "source": [
    "#### Review map, filter, zip, reduce"
   ]
  },
  {
   "cell_type": "code",
   "execution_count": 23,
   "metadata": {},
   "outputs": [
    {
     "name": "stdout",
     "output_type": "stream",
     "text": [
      "['SISI', 'BIBI', 'TITI', 'CARLA']\n",
      "[('a', 1), ('b', 2), ('c', 3), ('d', 4), ('e', 5)]\n",
      "[73, 65, 76, 100, 88]\n",
      "456\n"
     ]
    }
   ],
   "source": [
    "from functools import reduce\n",
    "\n",
    "#1 Capitalize all of the pet names and print the list\n",
    "my_pets = ['sisi', 'bibi', 'titi', 'carla']\n",
    "\n",
    "def capitalize(item):\n",
    "    return item.upper()\n",
    "\n",
    "print(list(map(capitalize, my_pets)))\n",
    "\n",
    "#2 Zip the 2 lists into a list of tuples, but sort the numbers from lowest to highest.\n",
    "my_strings = ['a', 'b', 'c', 'd', 'e']\n",
    "my_numbers = [5,4,3,2,1]\n",
    "\n",
    "print(list(zip(my_strings, sorted(my_numbers))))\n",
    "\n",
    "#3 Filter the scores that pass over 50%\n",
    "scores = [73, 20, 65, 19, 76, 100, 88]\n",
    "\n",
    "def over_50(item):\n",
    "    return item > 50\n",
    "\n",
    "print(list(filter(over_50, scores)))\n",
    "\n",
    "#4 Combine all of the numbers that are in a list on this file using reduce (my_numbers and scores). What is the total?\n",
    "from functools import reduce\n",
    "\n",
    "def accumulator(acc, item):\n",
    "    return acc + item\n",
    "\n",
    "print(reduce(accumulator, (my_numbers + scores)))\n"
   ]
  },
  {
   "cell_type": "markdown",
   "metadata": {},
   "source": [
    "### Lambda Expressions"
   ]
  },
  {
   "cell_type": "markdown",
   "metadata": {},
   "source": [
    "Lambda expressions provide a compact way to create anonymous functions in Python. They are particularly useful for quick, one-off functions that are used as arguments in higher-order functions.\n",
    "\n",
    "#### Syntax\n",
    "\n",
    "```python\n",
    "lambda parameters: expression\n",
    "```\n",
    "\n",
    "- **Parameters**: Inputs to the lambda function.\n",
    "- **Expression**: A single expression that is computed and returned."
   ]
  },
  {
   "cell_type": "code",
   "execution_count": 27,
   "metadata": {},
   "outputs": [
    {
     "name": "stdout",
     "output_type": "stream",
     "text": [
      "[2, 4, 6]\n",
      "[1, 3]\n",
      "6\n"
     ]
    }
   ],
   "source": [
    "# lambda param: action(param)\n",
    "\n",
    "my_list = [1, 2, 3]\n",
    "\n",
    "print(list(map(lambda item: item * 2, my_list)))\n",
    "print(list(filter(lambda item: item % 2 != 0, my_list)))\n",
    "print(reduce(lambda acc, item: acc + item, my_list))"
   ]
  },
  {
   "cell_type": "code",
   "execution_count": 33,
   "metadata": {},
   "outputs": [
    {
     "name": "stdout",
     "output_type": "stream",
     "text": [
      "[1, 4, 9]\n",
      "[(10, -1), (0, 2), (4, 3), (9, 9)]\n"
     ]
    }
   ],
   "source": [
    "my_list = [1, 2, 3]\n",
    "\n",
    "#Square\n",
    "print(list(map(lambda num: num ** 2, my_list)))\n",
    "\n",
    "#List Sorting based on second element\n",
    "a = [(0, 2), (4, 3), (9, 9), (10, -1)]\n",
    "\n",
    "sorted_a = sorted(a, key=lambda x:x[1])\n",
    "print(sorted_a)"
   ]
  },
  {
   "cell_type": "markdown",
   "metadata": {},
   "source": [
    "### List  Comprehension\n",
    "\n",
    "**Definition**:  \n",
    "It's a way for us to quickly create a list with Python instead of looping through and appending to a new list.\n",
    "\n",
    "**Syntax**:  \n",
    "```python\n",
    "[expression for item in iterable if condition]\n",
    "```\n",
    "\n",
    "- **Expression**: An operation or transformation to apply to each element.\n",
    "- **Item**: The variable representing each element in the iterable.\n",
    "- **Iterable**: The collection of elements to iterate over.\n",
    "- **Condition**: (Optional) A filter that selects only certain elements to include in the new list."
   ]
  },
  {
   "cell_type": "code",
   "execution_count": 42,
   "metadata": {},
   "outputs": [
    {
     "name": "stdout",
     "output_type": "stream",
     "text": [
      "['h', 'e', 'l', 'l', 'o']\n",
      "[0, 1, 2, 3, 4, 5, 6, 7, 8, 9, 10, 11, 12, 13, 14, 15, 16, 17, 18, 19, 20, 21, 22, 23, 24, 25, 26, 27, 28, 29, 30, 31, 32, 33, 34, 35, 36, 37, 38, 39, 40, 41, 42, 43, 44, 45, 46, 47, 48, 49, 50, 51, 52, 53, 54, 55, 56, 57, 58, 59, 60, 61, 62, 63, 64, 65, 66, 67, 68, 69, 70, 71, 72, 73, 74, 75, 76, 77, 78, 79, 80, 81, 82, 83, 84, 85, 86, 87, 88, 89, 90, 91, 92, 93, 94, 95, 96, 97, 98, 99]\n",
      "[0, 1, 4, 9, 16, 25, 36, 49, 64, 81, 100, 121, 144, 169, 196, 225, 256, 289, 324, 361, 400, 441, 484, 529, 576, 625, 676, 729, 784, 841, 900, 961, 1024, 1089, 1156, 1225, 1296, 1369, 1444, 1521, 1600, 1681, 1764, 1849, 1936, 2025, 2116, 2209, 2304, 2401, 2500, 2601, 2704, 2809, 2916, 3025, 3136, 3249, 3364, 3481, 3600, 3721, 3844, 3969, 4096, 4225, 4356, 4489, 4624, 4761, 4900, 5041, 5184, 5329, 5476, 5625, 5776, 5929, 6084, 6241, 6400, 6561, 6724, 6889, 7056, 7225, 7396, 7569, 7744, 7921, 8100, 8281, 8464, 8649, 8836, 9025, 9216, 9409, 9604, 9801]\n",
      "[0, 4, 16, 36, 64, 100, 144, 196, 256, 324, 400, 484, 576, 676, 784, 900, 1024, 1156, 1296, 1444, 1600, 1764, 1936, 2116, 2304, 2500, 2704, 2916, 3136, 3364, 3600, 3844, 4096, 4356, 4624, 4900, 5184, 5476, 5776, 6084, 6400, 6724, 7056, 7396, 7744, 8100, 8464, 8836, 9216, 9604]\n"
     ]
    }
   ],
   "source": [
    "# list, set, dictionary\n",
    "\n",
    "# my_list = []\n",
    "\n",
    "# for char in 'hello':\n",
    "#     my_list.append(char)\n",
    "\n",
    "# print(my_list)\n",
    "\n",
    "my_list = [char for char in 'hello']\n",
    "my_list2 = [num for num in range(0, 100)]\n",
    "my_list3 = [num**2 for num in range(0, 100)]\n",
    "my_list4 = [num**2 for num in range(0, 100) if num % 2 == 0]\n",
    "\n",
    "print(my_list)\n",
    "print(my_list2)\n",
    "print(my_list3)\n",
    "print(my_list4)\n"
   ]
  },
  {
   "cell_type": "markdown",
   "metadata": {},
   "source": [
    "### Set Comprehensions\n",
    "\n",
    "**Definition**:  \n",
    "Set comprehensions allow you to create sets in a single line by applying an expression to each item in an iterable. This syntax is similar to list comprehensions but creates a set, which automatically removes duplicate elements.\n",
    "\n",
    "**Syntax**:  \n",
    "```python\n",
    "{expression for item in iterable if condition}\n",
    "```\n",
    "\n",
    "- **Expression**: Operation applied to each element.\n",
    "- **Item**: Variable representing each element.\n",
    "- **Iterable**: Collection to iterate over.\n",
    "- **Condition**: (Optional) Filters elements."
   ]
  },
  {
   "cell_type": "code",
   "execution_count": 57,
   "metadata": {},
   "outputs": [
    {
     "name": "stdout",
     "output_type": "stream",
     "text": [
      "{'e', 'l', 'h', 'o'}\n",
      "{0, 1, 2, 3, 4, 5, 6, 7, 8, 9, 10, 11, 12, 13, 14, 15, 16, 17, 18, 19, 20, 21, 22, 23, 24, 25, 26, 27, 28, 29, 30, 31, 32, 33, 34, 35, 36, 37, 38, 39, 40, 41, 42, 43, 44, 45, 46, 47, 48, 49, 50, 51, 52, 53, 54, 55, 56, 57, 58, 59, 60, 61, 62, 63, 64, 65, 66, 67, 68, 69, 70, 71, 72, 73, 74, 75, 76, 77, 78, 79, 80, 81, 82, 83, 84, 85, 86, 87, 88, 89, 90, 91, 92, 93, 94, 95, 96, 97, 98, 99}\n",
      "{0, 1, 1024, 4096, 4, 9216, 9, 16, 529, 3600, 4624, 25, 36, 2601, 49, 7225, 3136, 64, 576, 1089, 1600, 2116, 5184, 6724, 7744, 9801, 81, 8281, 6241, 100, 625, 121, 4225, 1156, 8836, 3721, 144, 1681, 2704, 5776, 4761, 2209, 676, 169, 3249, 9409, 196, 1225, 5329, 729, 225, 1764, 7396, 6889, 7921, 2809, 256, 2304, 6400, 3844, 4356, 784, 1296, 8464, 289, 3364, 4900, 5929, 1849, 9025, 324, 841, 1369, 2401, 2916, 5476, 361, 3969, 900, 9604, 4489, 400, 1936, 7056, 7569, 3481, 6561, 1444, 8100, 5041, 441, 961, 2500, 6084, 8649, 3025, 484, 2025, 1521, 5625}\n",
      "{0, 256, 1024, 2304, 4, 900, 1156, 3844, 4096, 4356, 8836, 9604, 16, 144, 400, 784, 1296, 1936, 2704, 3600, 4624, 5776, 9216, 36, 676, 1444, 3364, 4900, 8100, 7056, 7744, 64, 576, 1600, 3136, 196, 324, 2116, 2500, 5184, 6084, 6400, 6724, 8464, 100, 484, 1764, 2916, 5476, 7396}\n"
     ]
    }
   ],
   "source": [
    "## Set comprehension ##\n",
    "# Set of unique characters from the string 'hello'\n",
    "my_set = {char for char in 'hello'}\n",
    "# Set of numbers from 0 to 99\n",
    "my_set2 = {num for num in range(0, 100)}\n",
    "# Set of squares of numbers from 0 to 99\n",
    "my_set3 = {num**2 for num in range(0, 100)}\n",
    "# Set of squares of even numbers from 0 to 99\n",
    "my_set4 = {num**2 for num in range(0, 100) if num % 2 == 0}\n",
    "\n",
    "print(my_set)\n",
    "print(my_set2)\n",
    "print(my_set3)\n",
    "print(my_set4)"
   ]
  },
  {
   "cell_type": "markdown",
   "metadata": {},
   "source": [
    "### Dictionary Comprehensions\n",
    "\n",
    "**Definition**:  \n",
    "Dictionary comprehensions allow you to construct dictionaries in a single line by transforming existing data or applying logic to key-value pairs.\n",
    "\n",
    "**Syntax**:  \n",
    "```python\n",
    "{key_expression: value_expression for item in iterable if condition}\n",
    "```\n",
    "\n",
    "- **Key Expression**: Defines the key for each entry.\n",
    "- **Value Expression**: Defines the value for each entry.\n",
    "- **Item**: Represents each element (often a tuple) from the iterable.\n",
    "- **Iterable**: Collection to iterate over.\n",
    "- **Condition**: (Optional) Filters entries."
   ]
  },
  {
   "cell_type": "code",
   "execution_count": 56,
   "metadata": {},
   "outputs": [
    {
     "name": "stdout",
     "output_type": "stream",
     "text": [
      "{'b': 4}\n",
      "{1: 2, 2: 4, 3: 6}\n"
     ]
    }
   ],
   "source": [
    "## Dictionary comprehension ##\n",
    "\n",
    "simple_dict = {\n",
    "    'a': 1,\n",
    "    'b': 2\n",
    "}\n",
    "# Dictionary with squared values for even numbers from a simple dictionary\n",
    "my_dict = {\n",
    "    key: value**2 for key, value in simple_dict.items()\n",
    "    if value % 2 == 0\n",
    "}\n",
    "\n",
    "# Dictionary where keys are numbers and values are double their keys\n",
    "my_dict2 = {\n",
    "    num: num*2 for num in [1,2,3] \n",
    "}\n",
    "\n",
    "print(my_dict)\n",
    "print(my_dict2)"
   ]
  },
  {
   "cell_type": "code",
   "execution_count": 72,
   "metadata": {},
   "outputs": [
    {
     "name": "stdout",
     "output_type": "stream",
     "text": [
      "['n', 'b']\n"
     ]
    }
   ],
   "source": [
    "some_list = ['a', 'b', 'c', 'b', 'd', 'm', 'n', 'n']\n",
    "\n",
    "# duplicates = []\n",
    "# for value in some_list:\n",
    "#     if some_list.count(value) > 1:\n",
    "#         if value not in duplicates:\n",
    "#             duplicates.append(value)\n",
    "\n",
    "duplicates = list(set([item for item in some_list if some_list.count(item) > 1]))\n",
    "print(duplicates)"
   ]
  },
  {
   "cell_type": "markdown",
   "metadata": {},
   "source": [
    "----------------------------------------------\n",
    "\n",
    "$$ Thank \\space you \\space ♡ $$\n",
    "$$ Ashraf \\space Sobh $$"
   ]
  }
 ],
 "metadata": {
  "kernelspec": {
   "display_name": "Python 3.10 (tensorflow)",
   "language": "python",
   "name": "tensorflow"
  },
  "language_info": {
   "codemirror_mode": {
    "name": "ipython",
    "version": 3
   },
   "file_extension": ".py",
   "mimetype": "text/x-python",
   "name": "python",
   "nbconvert_exporter": "python",
   "pygments_lexer": "ipython3",
   "version": "3.8.15"
  }
 },
 "nbformat": 4,
 "nbformat_minor": 2
}
